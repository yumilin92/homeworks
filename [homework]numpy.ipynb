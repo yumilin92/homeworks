{
 "cells": [
  {
   "cell_type": "markdown",
   "metadata": {
    "id": "KxIquH6GK7kt"
   },
   "source": [
    "<p style=\"align: center;\"><img align=center src=\"https://s8.hostingkartinok.com/uploads/images/2018/08/308b49fcfbc619d629fe4604bceb67ac.jpg\" width=500 height=450/></p>\n",
    "\n",
    "\n",
    "<h3 style=\"text-align: center;\"><b>Школа глубокого обучения ФПМИ МФТИ, осень 2021</b></h3>\n",
    "\n",
    "## Домашнее задание: библиотека Numpy и линейная алгебра\n"
   ]
  },
  {
   "cell_type": "code",
   "execution_count": 1,
   "metadata": {
    "id": "YEJ8DQ4QK7kx"
   },
   "outputs": [],
   "source": [
    "import numpy as np\n",
    "import random\n",
    "import scipy.stats as sps"
   ]
  },
  {
   "cell_type": "markdown",
   "metadata": {
    "id": "hYXhVX0eK7k2"
   },
   "source": [
    "### Задание 1\n",
    "В первой задаче вам предлагается перемножить две квадратные матрицы двумя способами -- без использования пакета ***numpy*** и с ним."
   ]
  },
  {
   "cell_type": "code",
   "execution_count": 2,
   "metadata": {
    "colab": {
     "base_uri": "https://localhost:8080/"
    },
    "id": "zJR8EANzK7k3",
    "outputId": "2f85a0d3-be9d-411b-c35f-09590130f3c9"
   },
   "outputs": [
    {
     "name": "stdout",
     "output_type": "stream",
     "text": [
      "[[0.20468278 0.52933134 0.91026517 ... 0.3189016  0.48787763 0.70911168]\n",
      " [0.28432167 0.52221887 0.73977109 ... 0.82012208 0.3655471  0.95561897]\n",
      " [0.24528783 0.3143724  0.10510369 ... 0.88850344 0.77147218 0.58678504]\n",
      " ...\n",
      " [0.65033244 0.79166339 0.34675652 ... 0.62172807 0.32662837 0.5538612 ]\n",
      " [0.11961217 0.22738317 0.52498002 ... 0.18382073 0.46675495 0.02969425]\n",
      " [0.79570639 0.75361839 0.69541398 ... 0.51391792 0.8776701  0.61062852]]\n",
      "[[0.83825258 0.95397689 0.16895236 ... 0.70040909 0.85526865 0.25773162]\n",
      " [0.56799372 0.5402931  0.42219107 ... 0.30037941 0.4874503  0.79494594]\n",
      " [0.74903182 0.78916283 0.04965958 ... 0.20332698 0.76239535 0.31846982]\n",
      " ...\n",
      " [0.80853685 0.69430358 0.43772782 ... 0.11254646 0.10121161 0.35674173]\n",
      " [0.17642497 0.75774214 0.52318516 ... 0.27425678 0.58517857 0.06763904]\n",
      " [0.6858279  0.9567339  0.99824775 ... 0.17205036 0.08470946 0.99096498]]\n"
     ]
    }
   ],
   "source": [
    "# Для генерации матриц используем фукнцию random -- она используется для генерации случайных объектов \n",
    "# функция sample создает случайную выборку. В качестве аргумента ей передается кортеж (i,j),  \n",
    "# здесь i -- число строк, j -- число столбцов.\n",
    "a = np.random.sample((100, 100))\n",
    "b = np.random.sample((100, 100))\n",
    "\n",
    "# Выведите размерность (ранг) каждой матрицы с помощью функции ndim.\n",
    "# Используйте функцию shape, что она вывела?\n",
    "\n",
    "# ========\n",
    "# Ваш код здесь\n",
    "# ========\n",
    "print(a)\n",
    "print(b)"
   ]
  },
  {
   "cell_type": "code",
   "execution_count": 3,
   "metadata": {
    "id": "bkWCI4TPK7k8"
   },
   "outputs": [],
   "source": [
    "def mult(a, b):\n",
    "    \"\"\"  \n",
    "    a: list of \"size\" lists, each contains \"size\" floats --- первая матрица-аргумент\n",
    "    b: list of \"size\" lists, each contains \"size\" floats --- вторая матрица-аргумент\n",
    "    return c: list of \"size\" lists, each contains \"size\" floats --- матрица, являющаяся результатом умножения матриц a и b\n",
    "    \n",
    "    Функция принимает на вход две матрицы: a и b размерностью size x size\n",
    "    Возвращает матрицу их произведения a * b = c \n",
    "\n",
    "    Реализуйте умножение матриц без использования функций из пакета numpy\n",
    "    \"\"\"\n",
    "    result = [[0 for i in range(len(a))] for i in range(len(a))]\n",
    "    for i in range(len(a)):\n",
    "        for j in range(len(b[0])):\n",
    "            for k in range(len(b)):\n",
    "                result[i][j] += a[i][k] * b[k][j]\n",
    "    return result"
   ]
  },
  {
   "cell_type": "code",
   "execution_count": 4,
   "metadata": {
    "id": "IIgYD1W5K7lB"
   },
   "outputs": [],
   "source": [
    "def np_mult(a, b):\n",
    "    \"\"\"  \n",
    "    a: np.array[size, size]             --- первая матрица-аргумент\n",
    "    b: np.array[size, size] --- вторая матрица-аргумент\n",
    "    return c: np.array[size, size]       --- матрица, являющаяся результатом умножения матриц a и b\n",
    "    \n",
    "    Функция принимает на вход две матрицы: a и b размерностью size x size\n",
    "    Возвращает матрицу их произведения a * b = c \n",
    "\n",
    "    Реализуйте умножение матриц, используя функции из пакета numpy\n",
    "    \"\"\"\n",
    "    result = a.dot(b)\n",
    "    return result"
   ]
  },
  {
   "cell_type": "code",
   "execution_count": 5,
   "metadata": {
    "id": "tktkYzUHK7lE"
   },
   "outputs": [
    {
     "name": "stdout",
     "output_type": "stream",
     "text": [
      "CPU times: user 424 ms, sys: 2.94 ms, total: 427 ms\n",
      "Wall time: 426 ms\n"
     ]
    }
   ],
   "source": [
    "%%time\n",
    "# засечем время работы функции без NumPy\n",
    "M1 = mult(a, b)"
   ]
  },
  {
   "cell_type": "code",
   "execution_count": 6,
   "metadata": {
    "id": "TmD0adgHK7lK"
   },
   "outputs": [
    {
     "name": "stdout",
     "output_type": "stream",
     "text": [
      "CPU times: user 613 µs, sys: 335 µs, total: 948 µs\n",
      "Wall time: 366 µs\n"
     ]
    }
   ],
   "source": [
    "%%time\n",
    "# засечем время работы функции с NumPy\n",
    "M2 = np_mult(a, b)"
   ]
  },
  {
   "cell_type": "code",
   "execution_count": 7,
   "metadata": {
    "id": "oftqyANQK7lS"
   },
   "outputs": [],
   "source": [
    "# проверим корректность\n",
    "assert np.allclose(np.array(M1), M2)"
   ]
  },
  {
   "cell_type": "markdown",
   "metadata": {
    "id": "2itTyTlcaHAu"
   },
   "source": [
    "### Задание 2"
   ]
  },
  {
   "cell_type": "markdown",
   "metadata": {
    "id": "BCemQSq-aEbO"
   },
   "source": [
    "Вам подаются на вход два вектора `a` и `b` в трехмерном пространстве. Заполните их случайными числами. Реализуйте их скалярное произведение с помощью  `NumPy` и без. Засеките время работы, как это показано в заданиях выше."
   ]
  },
  {
   "cell_type": "code",
   "execution_count": 8,
   "metadata": {
    "colab": {
     "base_uri": "https://localhost:8080/"
    },
    "id": "lWhr_gPSZ9o_",
    "outputId": "78800ae7-d578-4649-c233-0d3d72239185"
   },
   "outputs": [
    {
     "name": "stdout",
     "output_type": "stream",
     "text": [
      "[0.70067752 0.86952324 0.46054068] [0.40131938 0.27632368 0.42398307]\n"
     ]
    }
   ],
   "source": [
    "a = np.random.sample((1, 3))\n",
    "a = list(a)[0]\n",
    "b = np.random.sample((1, 3))\n",
    "b = list(b)[0]\n",
    "print(a, b)"
   ]
  },
  {
   "cell_type": "code",
   "execution_count": 9,
   "metadata": {
    "id": "GjlkcHIWZ_ae"
   },
   "outputs": [],
   "source": [
    "def scalar_product(a, b):\n",
    "    \"\"\"  \n",
    "    a: np.array[, n] --- первая матрица-аргумент длиной n\n",
    "    b: np.array[, n] --- вторая матрица-аргумент длиной n\n",
    "    return c: float  --- результат скалярного произведения векторов a и b\n",
    "\n",
    "    Функция принимает на вход два вектора длиной n\n",
    "    Возвращает число, равное их скалярному произведению a x b = c \n",
    "\n",
    "    Реализуйте скалярное умножение векторов, не используя функции из пакета numpy\n",
    "\n",
    "    \"\"\" \n",
    "    result = 0\n",
    "    for x, y in zip(a, b):\n",
    "        result += x * y\n",
    "    return result"
   ]
  },
  {
   "cell_type": "code",
   "execution_count": 10,
   "metadata": {
    "id": "C2M-OAp5Z_6a"
   },
   "outputs": [],
   "source": [
    "def np_scalar_product(a, b):\n",
    "    \"\"\"  \n",
    "    a: np.array[, n] --- первая матрица-аргумент\n",
    "    b: np.array[, n] --- вторая матрица-аргумент\n",
    "    return c: float  --- результат скалярного произведения векторов a и b\n",
    "\n",
    "    Функция принимает на вход два вектора длиной n\n",
    "    Возвращает число, равное их скалярному произведению a x b = c \n",
    "\n",
    "    Реализуйте скалярное умножение векторов, используя функции из пакета numpy\n",
    "    \"\"\" \n",
    "    result = a.dot(b)\n",
    "    return result"
   ]
  },
  {
   "cell_type": "code",
   "execution_count": 11,
   "metadata": {
    "id": "BOQfYf-2aCQJ",
    "scrolled": true
   },
   "outputs": [
    {
     "name": "stdout",
     "output_type": "stream",
     "text": [
      "CPU times: user 34 µs, sys: 3 µs, total: 37 µs\n",
      "Wall time: 24.1 µs\n",
      "CPU times: user 669 µs, sys: 63 µs, total: 732 µs\n",
      "Wall time: 174 µs\n"
     ]
    }
   ],
   "source": [
    "%time product_1 = scalar_product(a, b)\n",
    "%time product_2 = np_scalar_product(a, b)"
   ]
  },
  {
   "cell_type": "markdown",
   "metadata": {
    "id": "NHaHu6q1K7mH"
   },
   "source": [
    "Почему методы ***numpy*** оказываются эффективнее? Что вы можете сказать о скорости вычислений в NumPy?"
   ]
  },
  {
   "cell_type": "markdown",
   "metadata": {
    "id": "PqsTAb1M7TTQ"
   },
   "source": [
    "------------------"
   ]
  },
  {
   "cell_type": "markdown",
   "metadata": {
    "id": "_A3p2s4eK7mI"
   },
   "source": [
    "**Ответ:** Скорость вычислений вектоных и матричных операций в NumPy сильно превосходит скорость вычислений без него, по большей части потому, что функции numpy работаю с массивами данных одного типа (числовыми), это позволяет реализовать встроенные функции numpy на C/C++, что, конечно, делает numpy быстрее (функции, которые вызывает Numpy для работы с числовыми данными, сильно оптимизированы именно под эти задачи, а сам Python просто гоняет интерпретатор по циклу в таких операциях, что является чуть ли не самым большим замедлением в работе интерпретатора)."
   ]
  },
  {
   "cell_type": "markdown",
   "metadata": {
    "id": "mJXeUuznK7lm"
   },
   "source": [
    "### Задание 3\n",
    "Напишите функцию, которая находим сумму четных диагональных элементов квадратной матрицы. Если таких элементов нет, то вывести `0`. Используйте библиотеку Numpy"
   ]
  },
  {
   "cell_type": "code",
   "execution_count": 12,
   "metadata": {
    "id": "qYNiKbK47TTS"
   },
   "outputs": [],
   "source": [
    "def np_diag_2k(a):\n",
    "    \"\"\"  \n",
    "    a: np.array[m, m] --- первая матрица-аргумент\n",
    "    return c: float   --- сумма элементов массива а, принадлежащих диагонали и являющимися четными\n",
    "\n",
    "    Функция принимает на вход квадратную матрицу размерностью m x m и возвращает число,\n",
    "    равное сумме четных диагональных элементов этой квадратной матрицы\n",
    "\n",
    "    В реализации этой функции необходимо использовать функционал пакета numpy\n",
    "\n",
    "    \"\"\" \n",
    "    result = sum(np.diagonal(a)[np.diagonal(a)%2 == 0])\n",
    "    return result"
   ]
  },
  {
   "cell_type": "code",
   "execution_count": 13,
   "metadata": {
    "id": "BdInn8_j7TTU"
   },
   "outputs": [
    {
     "data": {
      "text/plain": [
       "array([[2, 6, 9, 9, 3],\n",
       "       [3, 1, 7, 6, 7],\n",
       "       [2, 3, 9, 4, 4],\n",
       "       [1, 1, 8, 3, 7],\n",
       "       [5, 7, 3, 5, 8]])"
      ]
     },
     "execution_count": 13,
     "metadata": {},
     "output_type": "execute_result"
    }
   ],
   "source": [
    "# зададим некоторую квадратную матрицу\n",
    "a = np.random.randint(1, 10, size=(5, 5))\n",
    "a"
   ]
  },
  {
   "cell_type": "code",
   "execution_count": 14,
   "metadata": {
    "id": "ZR97Nt9N7TTW"
   },
   "outputs": [
    {
     "name": "stdout",
     "output_type": "stream",
     "text": [
      "CPU times: user 249 µs, sys: 9 µs, total: 258 µs\n",
      "Wall time: 70.3 µs\n"
     ]
    },
    {
     "data": {
      "text/plain": [
       "10"
      ]
     },
     "execution_count": 14,
     "metadata": {},
     "output_type": "execute_result"
    }
   ],
   "source": [
    "%%time\n",
    "# засечем время работы функции с NumPy\n",
    "np_diag_2k(a)"
   ]
  },
  {
   "cell_type": "markdown",
   "metadata": {
    "id": "cdcRkFzQ7TTY"
   },
   "source": [
    "### Задание 4\n",
    "​\n",
    "На вход дан двумерный массив $X$. Напишите функцию, которая для каждой строчки $(x = (x_1, x_2, \\ldots, x_n)$ массива $X$ строит строчку $s = (s_1, s_2, \\ldots, s_n)$,  где $s_k=x_1+...+x_k$, а затем выдаёт массив из построенных строчек. Используйте библиотеку <code>numpy</code> (вам поможет функция <code>cumsum</code>). Выходом функции должен быть двумерный <code>numpy</code>-массив той же формы, что и $X$.\n",
    "​ "
   ]
  },
  {
   "cell_type": "code",
   "execution_count": 15,
   "metadata": {
    "id": "REgL39ksK7lr"
   },
   "outputs": [],
   "source": [
    "def cumsum(A):\n",
    "    \"\"\"  \n",
    "    A: np.array[num_row, num_column]        --- матрица-аргумент\n",
    "    return S: np.array[num_row, num_column] --- выходная матрица кумулятивных сумм\n",
    "\n",
    "    Функция принимает на вход матрицу A размерностью n x m и возвращает \n",
    "    матрицу с той же размерностью n x m, i-ая строчка которой есть последовательность \n",
    "    кумулятивных сумм элементов i-ой строки матрицы A\n",
    "\n",
    "    В реализации этой функции необходимо использовать функционал пакета numpy\n",
    "\n",
    "    \"\"\" \n",
    "    result = np.cumsum(A,axis=-1)\n",
    "    return result"
   ]
  },
  {
   "cell_type": "code",
   "execution_count": 16,
   "metadata": {
    "id": "HcVN8MagK7lw"
   },
   "outputs": [
    {
     "name": "stdout",
     "output_type": "stream",
     "text": [
      "CPU times: user 185 µs, sys: 32 µs, total: 217 µs\n",
      "Wall time: 59.1 µs\n"
     ]
    }
   ],
   "source": [
    "# зададим некоторую последовательность и проверим ее на вашей функции. \n",
    "A = sps.uniform.rvs(size=10**3) \n",
    "\n",
    "%time S2 = cumsum(A)"
   ]
  },
  {
   "cell_type": "markdown",
   "metadata": {
    "id": "teVCPWZmK7l5"
   },
   "source": [
    "### Задание 5\n",
    "\n",
    "​\n",
    "Задан двумерный массив $X$. Для каждой строчки массива X необходимо сделать следующее преобразование.\n",
    "\n",
    "Пусть дана строчка x. Необходимо построить новый массив, где все элементы с нечетными индексами требуется заменить на число a (значение по умолчанию a=1). Все элементы с четными индексами нужно возвести в куб. Затем записать элементы в обратном порядке относительно их позиций. В конце требуется слить массив x с преобразованным x и вывести.\n",
    "\n",
    "Напишите функцию, которая выполняет данное преобразование для каждой строчки двумерного массива X. Массив X при этом должен остаться без изменений.\n",
    "\n",
    "Используйте библиотеку numpy.\n",
    "\n",
    "Пример:\n",
    "$X = [[100,200,300,400,500]]$ -> $[[100,a,300,a,500]]$ -> $[[500^3,a,300^3,a,100^3]]$ -> склеиваем -> $[[100,200,300,400,500,500^3,a,300^3,a,100^3]]$\n",
    "\n",
    "​"
   ]
  },
  {
   "cell_type": "code",
   "execution_count": 17,
   "metadata": {
    "id": "0hmcvfDVK7l-"
   },
   "outputs": [],
   "source": [
    "from copy import copy\n",
    "def np_transformation(X, a=1):\n",
    "    \"\"\"  \n",
    "    X: np.array[num_row, num_column]          --- матрица-аргумент\n",
    "    a: float                                  --- значение для преобразования нечетных элементов строк в X\n",
    "    return S: np.array[num_row, num_column*2] --- матрица, где строки являются \n",
    "    сконкатенированными строками изначальной матрицы X со строками, являющимися их преобразованиями\n",
    "\n",
    "    Функция принимает на вход матрицу X размерностью n x m, число a и \n",
    "    возвращает  матрицу с размерностью n x m*2, i-ая строчка которой является склеенной\n",
    "    i-ой строкой X с ее преобразованием ее строки transformation(X[i]), записанном в обратном порядке, \n",
    "    где преобразование для числа k определено как:\n",
    "    transformation(k) = a if ind(k) % 2 == 0 else k**3\n",
    "\n",
    "    В реализации этой функции необходимо использовать функционал пакета numpy\n",
    "\n",
    "    \"\"\" \n",
    "    A = np.copy(X)\n",
    "    A[:, 1::2] = a\n",
    "    A[:, 0::2] = A[:,0::2]**3\n",
    "    B = A[:, ::-1]\n",
    "    result = np.hstack((X, B))\n",
    "    return result"
   ]
  },
  {
   "cell_type": "code",
   "execution_count": 18,
   "metadata": {
    "id": "r2-JLMhxK7mE",
    "scrolled": true
   },
   "outputs": [
    {
     "name": "stdout",
     "output_type": "stream",
     "text": [
      "CPU times: user 259 µs, sys: 65 µs, total: 324 µs\n",
      "Wall time: 113 µs\n"
     ]
    }
   ],
   "source": [
    "X = np.array([[i for i in range(1, 10, 2)]])\n",
    "%time S2 = np_transformation(X, 5)"
   ]
  },
  {
   "cell_type": "markdown",
   "metadata": {
    "id": "qa521fce7TTk"
   },
   "source": [
    "### Задание 6\n",
    "Написать функцию для кодирование массива (Run-length encoding). Все подряд идущие повторения элементов функция сжимает в один элемент и считает количество повторений этого элемента. Функция возвращает кортеж из двух векторов одинаковой длины. Первый содержит элементы, а второй — сколько раз их нужно повторить. \n",
    "\n",
    "Пример: encode(np.array([1, 2, 2, 3, 3, 1, 1, 5, 5, 2, 3, 3])) = (np.array[1, 2, 3, 1, 5, 2, 3]), np.array[1, 2, 2, 2, 2, 1, 2])"
   ]
  },
  {
   "cell_type": "code",
   "execution_count": 19,
   "metadata": {
    "id": "4wD7OSVv7TTl"
   },
   "outputs": [],
   "source": [
    "def np_encode(a):\n",
    "    \"\"\"  \n",
    "    a: np.array[, n] --- вектор-аргумент длиной n\n",
    "    return (elems, repetitions): (np.array, np.array) --- выходной кортеж из вектора \n",
    "    элементов и вектора их количеств в подряд идущих повторениях\n",
    "\n",
    "    Функция принимает на вход вектор a длиной n, добавляет в вектор elem сжатые \n",
    "    в один элемент подряд идущие повторения элементов входного вектора a, в вектор \n",
    "    repetitions добавляет длины последовательностей подряд идущих повторений. \n",
    "    Затем функция возвращает кортеж векторов (elems, repetitions).\n",
    "\n",
    "    В реализации этой функции необходимо использовать функционал пакета numpy\n",
    "\n",
    "    \"\"\" \n",
    "    a_new = np.append([0], a) # добавляем 0 слева\n",
    "    b = np.diff(a_new)\n",
    "    c = np.nonzero(b)\n",
    "\n",
    "    a_new = np.append(a_new, [0])\n",
    "\n",
    "    b_new =  np.diff(a_new)\n",
    "    c_new = np.nonzero(b_new)\n",
    "\n",
    "    result = (a[c], np.diff(c_new).ravel())\n",
    "    return result"
   ]
  },
  {
   "cell_type": "code",
   "execution_count": 20,
   "metadata": {
    "id": "P7YxojET7TTn"
   },
   "outputs": [
    {
     "name": "stdout",
     "output_type": "stream",
     "text": [
      "CPU times: user 359 µs, sys: 78 µs, total: 437 µs\n",
      "Wall time: 166 µs\n"
     ]
    }
   ],
   "source": [
    "X = np.array([1, 2, 2, 3, 3, 1, 1, 5, 5, 2, 3, 3])\n",
    "\n",
    "%time x, num = np_encode(X)"
   ]
  },
  {
   "cell_type": "code",
   "execution_count": null,
   "metadata": {},
   "outputs": [],
   "source": []
  }
 ],
 "metadata": {
  "colab": {
   "provenance": []
  },
  "kernelspec": {
   "display_name": "Python 3",
   "language": "python",
   "name": "python3"
  },
  "language_info": {
   "codemirror_mode": {
    "name": "ipython",
    "version": 3
   },
   "file_extension": ".py",
   "mimetype": "text/x-python",
   "name": "python",
   "nbconvert_exporter": "python",
   "pygments_lexer": "ipython3",
   "version": "3.8.8"
  }
 },
 "nbformat": 4,
 "nbformat_minor": 1
}
